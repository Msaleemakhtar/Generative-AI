{
 "cells": [
  {
   "cell_type": "code",
   "execution_count": 52,
   "metadata": {},
   "outputs": [],
   "source": [
    "from openai import OpenAI\n",
    "from dotenv import load_dotenv, find_dotenv\n",
    "import os\n",
    "\n",
    "_ : bool = load_dotenv(find_dotenv()) # read local .env file\n",
    "\n",
    "client : OpenAI = OpenAI()"
   ]
  },
  {
   "cell_type": "markdown",
   "metadata": {},
   "source": [
    "### Define the functions"
   ]
  },
  {
   "cell_type": "code",
   "execution_count": 53,
   "metadata": {},
   "outputs": [],
   "source": [
    "# Example dummy function hard coded to return the same weather\n",
    "# In production, this could be your backend API or an external API\n",
    "import json\n",
    "def getCurrentWeather(location:str, unit:str=\"fahrenheit\")->str | dict | None:\n",
    "    \"\"\"Get the current weather in a given location\"\"\"\n",
    "    if \"tokyo\" in location.lower():\n",
    "        return json.dumps({\"location\": \"Tokyo\", \"temperature\": \"10\", \"unit\": \"celsius\"})\n",
    "    elif \"los angeles\" in location.lower():\n",
    "        return json.dumps({\"location\": \"San Francisco\", \"temperature\": \"72\", \"unit\": \"fahrenheit\"})\n",
    "    elif \"paris\" in location.lower():\n",
    "        return json.dumps({\"location\": \"Paris\", \"temperature\": \"22\", \"unit\": \"celsius\"})\n",
    "    else:\n",
    "        return json.dumps({\"location\": location, \"temperature\": \"unknown\"})\n",
    "    \n",
    "\n",
    "def getNickname(location:str)->str:\n",
    "    \"\"\"Get the nickname of a city\"\"\"\n",
    "    if \"tokyo\" in location.lower():\n",
    "        return \"tk\"\n",
    "    elif \"los angeles\" in location.lower():\n",
    "        return \"la\"\n",
    "    elif \"paris\" in location.lower():\n",
    "        return \"py\"\n",
    "    else:\n",
    "        return location\n",
    "    \n",
    "\n"
   ]
  },
  {
   "cell_type": "code",
   "execution_count": 54,
   "metadata": {},
   "outputs": [],
   "source": [
    "import json\n",
    "\n",
    "def show_json(message, obj):\n",
    "    display(message, json.loads(obj.model_dump_json()))\n",
    "\n"
   ]
  },
  {
   "cell_type": "markdown",
   "metadata": {},
   "source": [
    "### Create assistant"
   ]
  },
  {
   "cell_type": "code",
   "execution_count": 55,
   "metadata": {},
   "outputs": [],
   "source": [
    "from openai.types.beta.assistant import Assistant\n",
    "\n",
    "assistant: Assistant = client.beta.assistants.create(\n",
    "  instructions=\"You are a weather bot. Use the provided functions to answer questions.\",\n",
    "  model=\"gpt-3.5-turbo-1106\",\n",
    "  tools=[{\n",
    "      \"type\": \"function\",\n",
    "    \"function\": {\n",
    "      \"name\": \"getCurrentWeather\",\n",
    "      \"description\": \"Get the weather in location\",\n",
    "      \"parameters\": {\n",
    "        \"type\": \"object\",\n",
    "        \"properties\": {\n",
    "          \"location\": {\"type\": \"string\", \"description\": \"The city and state e.g. San Francisco, CA\"},\n",
    "          \"unit\": {\"type\": \"string\", \"enum\": [\"c\", \"f\"]}\n",
    "        },\n",
    "        \"required\": [\"location\"]\n",
    "      }\n",
    "    }\n",
    "  }, {\n",
    "    \"type\": \"function\",\n",
    "    \"function\": {\n",
    "      \"name\": \"getNickname\",\n",
    "      \"description\": \"Get the nickname of a city\",\n",
    "      \"parameters\": {\n",
    "        \"type\": \"object\",\n",
    "        \"properties\": {\n",
    "          \"location\": {\"type\": \"string\", \"description\": \"The city and state e.g. San Francisco, CA\"},\n",
    "        },\n",
    "        \"required\": [\"location\"]\n",
    "      }\n",
    "    } \n",
    "  }]\n",
    ")"
   ]
  },
  {
   "cell_type": "markdown",
   "metadata": {},
   "source": [
    "### Create Thread"
   ]
  },
  {
   "cell_type": "code",
   "execution_count": 56,
   "metadata": {},
   "outputs": [
    {
     "name": "stdout",
     "output_type": "stream",
     "text": [
      "Thread(id='thread_EWQe1GNT89NfAKNtVtM5F3zX', created_at=1702313355, metadata={}, object='thread')\n"
     ]
    }
   ],
   "source": [
    "from openai.types.beta.thread import Thread\n",
    "\n",
    "thread: Thread  = client.beta.threads.create()\n",
    "\n",
    "print(thread)"
   ]
  },
  {
   "cell_type": "markdown",
   "metadata": {},
   "source": [
    "### Add a message to thread"
   ]
  },
  {
   "cell_type": "code",
   "execution_count": 57,
   "metadata": {},
   "outputs": [],
   "source": [
    "from openai.types.beta.threads.thread_message import ThreadMessage\n",
    "\n",
    "# First Request\n",
    "message = client.beta.threads.messages.create(\n",
    "    thread_id=thread.id,\n",
    "    role=\"user\",\n",
    "    content=\"How is the weather in Los Angles?\"\n",
    ")\n"
   ]
  },
  {
   "cell_type": "code",
   "execution_count": 58,
   "metadata": {},
   "outputs": [
    {
     "data": {
      "text/plain": [
       "{'id': 'msg_gHQp6CgRNolShZuTnmVjrbGh',\n",
       " 'assistant_id': None,\n",
       " 'content': [MessageContentText(text=Text(annotations=[], value='How is the weather in Los Angles?'), type='text')],\n",
       " 'created_at': 1702313356,\n",
       " 'file_ids': [],\n",
       " 'metadata': {},\n",
       " 'object': 'thread.message',\n",
       " 'role': 'user',\n",
       " 'run_id': None,\n",
       " 'thread_id': 'thread_EWQe1GNT89NfAKNtVtM5F3zX'}"
      ]
     },
     "execution_count": 58,
     "metadata": {},
     "output_type": "execute_result"
    }
   ],
   "source": [
    "dict(message)"
   ]
  },
  {
   "cell_type": "markdown",
   "metadata": {},
   "source": [
    "### Run the Assistant"
   ]
  },
  {
   "cell_type": "code",
   "execution_count": 59,
   "metadata": {},
   "outputs": [
    {
     "data": {
      "text/plain": [
       "{'id': 'run_xxVdNEe4lYNqHIlzhgS34whN',\n",
       " 'assistant_id': 'asst_MFo5G2UL16bU9tV1riAXYdGM',\n",
       " 'cancelled_at': None,\n",
       " 'completed_at': None,\n",
       " 'created_at': 1702313357,\n",
       " 'expires_at': 1702313957,\n",
       " 'failed_at': None,\n",
       " 'file_ids': [],\n",
       " 'instructions': 'You are a weather bot. Use the provided functions to answer questions.',\n",
       " 'last_error': None,\n",
       " 'metadata': {},\n",
       " 'model': 'gpt-3.5-turbo-1106',\n",
       " 'object': 'thread.run',\n",
       " 'required_action': None,\n",
       " 'started_at': None,\n",
       " 'status': 'queued',\n",
       " 'thread_id': 'thread_EWQe1GNT89NfAKNtVtM5F3zX',\n",
       " 'tools': [ToolAssistantToolsFunction(function=FunctionDefinition(name='getCurrentWeather', parameters={'type': 'object', 'properties': {'location': {'type': 'string', 'description': 'The city and state e.g. San Francisco, CA'}, 'unit': {'type': 'string', 'enum': ['c', 'f']}}, 'required': ['location']}, description='Get the weather in location'), type='function'),\n",
       "  ToolAssistantToolsFunction(function=FunctionDefinition(name='getNickname', parameters={'type': 'object', 'properties': {'location': {'type': 'string', 'description': 'The city and state e.g. San Francisco, CA'}}, 'required': ['location']}, description='Get the nickname of a city'), type='function')]}"
      ]
     },
     "execution_count": 59,
     "metadata": {},
     "output_type": "execute_result"
    }
   ],
   "source": [
    "from openai.types.beta.threads.run import Run\n",
    "\n",
    "run: Run = client.beta.threads.runs.create(\n",
    "  thread_id=thread.id,\n",
    "  assistant_id=assistant.id\n",
    ")\n",
    "\n",
    "dict(run)\n"
   ]
  },
  {
   "cell_type": "code",
   "execution_count": 60,
   "metadata": {},
   "outputs": [],
   "source": [
    "available_functions = {\n",
    "    \"getCurrentWeather\": getCurrentWeather,\n",
    "    \"getNickname\": getNickname\n",
    "}"
   ]
  },
  {
   "cell_type": "markdown",
   "metadata": {},
   "source": [
    "### Polling for Updates and Calling Functions\n"
   ]
  },
  {
   "cell_type": "code",
   "execution_count": 61,
   "metadata": {},
   "outputs": [
    {
     "name": "stderr",
     "output_type": "stream",
     "text": [
      "c:\\Users\\hamza\\anaconda3\\envs\\genai\\Lib\\site-packages\\pydantic\\main.py:352: UserWarning: Pydantic serializer warnings:\n",
      "  Expected `Union[MessageCreationStepDetails, ToolCallsStepDetails]` but got `MessageCreationStepDetails` - serialized value may not be as expected\n",
      "  return self.__pydantic_serializer__.to_json(\n"
     ]
    },
    {
     "data": {
      "text/plain": [
       "'Run Steps-1:'"
      ]
     },
     "metadata": {},
     "output_type": "display_data"
    },
    {
     "data": {
      "text/plain": [
       "{'data': [{'id': 'step_6qHFnAmKv1BcUe8pvTpa5fo6',\n",
       "   'assistant_id': 'asst_MFo5G2UL16bU9tV1riAXYdGM',\n",
       "   'cancelled_at': None,\n",
       "   'completed_at': None,\n",
       "   'created_at': 1702313358,\n",
       "   'expired_at': None,\n",
       "   'failed_at': None,\n",
       "   'last_error': None,\n",
       "   'metadata': None,\n",
       "   'object': 'thread.run.step',\n",
       "   'run_id': 'run_xxVdNEe4lYNqHIlzhgS34whN',\n",
       "   'status': 'in_progress',\n",
       "   'step_details': {'message_creation': None,\n",
       "    'type': 'tool_calls',\n",
       "    'tool_calls': [{'id': 'call_KnWQkZdjCaemPHhRuzgKFLmi',\n",
       "      'type': 'function',\n",
       "      'function': {'name': 'getCurrentWeather',\n",
       "       'arguments': '{\"location\":\"Los Angeles, CA\",\"unit\":\"c\"}'}}]},\n",
       "   'thread_id': 'thread_EWQe1GNT89NfAKNtVtM5F3zX',\n",
       "   'type': 'tool_calls',\n",
       "   'expires_at': 1702313957}],\n",
       " 'object': 'list',\n",
       " 'first_id': 'step_6qHFnAmKv1BcUe8pvTpa5fo6',\n",
       " 'last_id': 'step_6qHFnAmKv1BcUe8pvTpa5fo6',\n",
       " 'has_more': False}"
      ]
     },
     "metadata": {},
     "output_type": "display_data"
    },
    {
     "name": "stdout",
     "output_type": "stream",
     "text": [
      "---------above runstep---------\n",
      "runStatus.status=2 requires_action .....\n",
      "requires_action 3.....\n",
      "Status: 4  requires_action\n"
     ]
    },
    {
     "data": {
      "text/plain": [
       "'submit_tool_outputs'"
      ]
     },
     "metadata": {},
     "output_type": "display_data"
    },
    {
     "data": {
      "text/plain": [
       "{'submit_tool_outputs': {'tool_calls': [{'id': 'call_KnWQkZdjCaemPHhRuzgKFLmi',\n",
       "    'function': {'arguments': '{\"location\":\"Los Angeles, CA\",\"unit\":\"c\"}',\n",
       "     'name': 'getCurrentWeather'},\n",
       "    'type': 'function'}]},\n",
       " 'type': 'submit_tool_outputs'}"
      ]
     },
     "metadata": {},
     "output_type": "display_data"
    },
    {
     "name": "stdout",
     "output_type": "stream",
     "text": [
      "toolCalls present:5\n",
      "toolcalls----- RequiredActionFunctionToolCall(id='call_47OXYyhgafoT009QzBakg7mI', function=Function(arguments='{\"location\":\"Los Angeles, CA\",\"unit\":\"c\"}', name='getCurrentWeather'), type='function')\n",
      "<function getCurrentWeather at 0x00000109B618D620> True  6================================================================\n",
      "[{'tool_call_id': 'call_KnWQkZdjCaemPHhRuzgKFLmi', 'output': '{\"location\": \"San Francisco\", \"temperature\": \"72\", \"unit\": \"fahrenheit\"}'}] 7--->>>>>\n"
     ]
    },
    {
     "data": {
      "text/plain": [
       "'Run Steps-1:'"
      ]
     },
     "metadata": {},
     "output_type": "display_data"
    },
    {
     "data": {
      "text/plain": [
       "{'data': [{'id': 'step_6qHFnAmKv1BcUe8pvTpa5fo6',\n",
       "   'assistant_id': 'asst_MFo5G2UL16bU9tV1riAXYdGM',\n",
       "   'cancelled_at': None,\n",
       "   'completed_at': 1702313667,\n",
       "   'created_at': 1702313358,\n",
       "   'expired_at': None,\n",
       "   'failed_at': None,\n",
       "   'last_error': None,\n",
       "   'metadata': None,\n",
       "   'object': 'thread.run.step',\n",
       "   'run_id': 'run_xxVdNEe4lYNqHIlzhgS34whN',\n",
       "   'status': 'completed',\n",
       "   'step_details': {'tool_calls': [{'id': 'call_KnWQkZdjCaemPHhRuzgKFLmi',\n",
       "      'function': {'arguments': '{\"location\":\"Los Angeles, CA\",\"unit\":\"c\"}',\n",
       "       'name': 'getCurrentWeather',\n",
       "       'output': '{\"location\": \"San Francisco\", \"temperature\": \"72\", \"unit\": \"fahrenheit\"}'},\n",
       "      'type': 'function'}],\n",
       "    'type': 'tool_calls'},\n",
       "   'thread_id': 'thread_EWQe1GNT89NfAKNtVtM5F3zX',\n",
       "   'type': 'tool_calls',\n",
       "   'expires_at': 1702313957}],\n",
       " 'object': 'list',\n",
       " 'first_id': 'step_6qHFnAmKv1BcUe8pvTpa5fo6',\n",
       " 'last_id': 'step_6qHFnAmKv1BcUe8pvTpa5fo6',\n",
       " 'has_more': False}"
      ]
     },
     "metadata": {},
     "output_type": "display_data"
    },
    {
     "name": "stdout",
     "output_type": "stream",
     "text": [
      "---------above runstep---------\n",
      "runStatus.status=2 in_progress .....\n",
      "Run is queued. Waiting...\n"
     ]
    },
    {
     "data": {
      "text/plain": [
       "'Run Steps-1:'"
      ]
     },
     "metadata": {},
     "output_type": "display_data"
    },
    {
     "data": {
      "text/plain": [
       "{'data': [{'id': 'step_WqWycIvRD3ZyITKG1zALJrKp',\n",
       "   'assistant_id': 'asst_MFo5G2UL16bU9tV1riAXYdGM',\n",
       "   'cancelled_at': None,\n",
       "   'completed_at': 1702313669,\n",
       "   'created_at': 1702313669,\n",
       "   'expired_at': None,\n",
       "   'failed_at': None,\n",
       "   'last_error': None,\n",
       "   'metadata': None,\n",
       "   'object': 'thread.run.step',\n",
       "   'run_id': 'run_xxVdNEe4lYNqHIlzhgS34whN',\n",
       "   'status': 'completed',\n",
       "   'step_details': {'message_creation': {'message_id': 'msg_E6HYlweBhw88U98Fw4GdHPPx'},\n",
       "    'type': 'message_creation'},\n",
       "   'thread_id': 'thread_EWQe1GNT89NfAKNtVtM5F3zX',\n",
       "   'type': 'message_creation',\n",
       "   'expires_at': None},\n",
       "  {'id': 'step_6qHFnAmKv1BcUe8pvTpa5fo6',\n",
       "   'assistant_id': 'asst_MFo5G2UL16bU9tV1riAXYdGM',\n",
       "   'cancelled_at': None,\n",
       "   'completed_at': 1702313667,\n",
       "   'created_at': 1702313358,\n",
       "   'expired_at': None,\n",
       "   'failed_at': None,\n",
       "   'last_error': None,\n",
       "   'metadata': None,\n",
       "   'object': 'thread.run.step',\n",
       "   'run_id': 'run_xxVdNEe4lYNqHIlzhgS34whN',\n",
       "   'status': 'completed',\n",
       "   'step_details': {'tool_calls': [{'id': 'call_KnWQkZdjCaemPHhRuzgKFLmi',\n",
       "      'function': {'arguments': '{\"location\":\"Los Angeles, CA\",\"unit\":\"c\"}',\n",
       "       'name': 'getCurrentWeather',\n",
       "       'output': '{\"location\": \"San Francisco\", \"temperature\": \"72\", \"unit\": \"fahrenheit\"}'},\n",
       "      'type': 'function'}],\n",
       "    'type': 'tool_calls'},\n",
       "   'thread_id': 'thread_EWQe1GNT89NfAKNtVtM5F3zX',\n",
       "   'type': 'tool_calls',\n",
       "   'expires_at': None}],\n",
       " 'object': 'list',\n",
       " 'first_id': 'step_WqWycIvRD3ZyITKG1zALJrKp',\n",
       " 'last_id': 'step_6qHFnAmKv1BcUe8pvTpa5fo6',\n",
       " 'has_more': False}"
      ]
     },
     "metadata": {},
     "output_type": "display_data"
    },
    {
     "name": "stdout",
     "output_type": "stream",
     "text": [
      "---------above runstep---------\n",
      "runStatus.status=2 completed .....\n",
      "completed...........8--logic\n",
      "Assistant: The current weather in Los Angeles is 72°F.\n",
      "\n",
      "User: How is the weather in Los Angles?\n",
      "\n"
     ]
    }
   ],
   "source": [
    "import time\n",
    "\n",
    "  # Loop until the run completes or requires action\n",
    "while True:\n",
    "    runStatus = client.beta.threads.runs.retrieve(thread_id=thread.id,\n",
    "                                                  run_id=run.id)\n",
    "    # Add run steps retrieval here for debuging\n",
    "    run_steps = client.beta.threads.runs.steps.list(thread_id=thread.id, run_id=run.id)\n",
    "    show_json(\"Run Steps-1:\", run_steps)\n",
    "    print(\"---------above runstep---------\")\n",
    "    print(\"runStatus.status=2\",  runStatus.status ,'.....')\n",
    "\n",
    "    # This means run is making a function call   \n",
    "    if runStatus.status == \"requires_action\":\n",
    "        print(runStatus.status ,'3.....')\n",
    "        print(\"Status: 4 \", \"requires_action\")\n",
    "        show_json(\"submit_tool_outputs\", runStatus.required_action)\n",
    "        if runStatus.required_action.submit_tool_outputs and runStatus.required_action.submit_tool_outputs.tool_calls:\n",
    "            print(\"toolCalls present:5\")\n",
    "            toolCalls = runStatus.required_action.submit_tool_outputs.tool_calls\n",
    "            print(\"toolcalls-----\", toolcall)\n",
    "\n",
    "            tool_outputs = []\n",
    "            for toolcall in toolCalls:\n",
    "                function_name = toolcall.function.name\n",
    "                function_args = json.loads(toolcall.function.arguments)\n",
    "                \n",
    "                if function_name in available_functions:\n",
    "                    \n",
    "                    \n",
    "                    function_to_call = available_functions[function_name]\n",
    "                    print(function_to_call,function_to_call.__name__==\"getCurrentWeather\",\" 6================================================================\")\n",
    "                  \n",
    "                    if function_to_call.__name__ == \"getCurrentWeather\":\n",
    "                        \n",
    "                        response = function_to_call(\n",
    "                        location=function_args.get(\"location\"),\n",
    "                        unit=function_args.get(\"unit\")\n",
    "                        )\n",
    "                        \n",
    "                        \n",
    "                        tool_outputs.append({\n",
    "                                  \"tool_call_id\": toolcall.id,\n",
    "                                  \"output\": response\n",
    "                              })\n",
    "                    \n",
    "                    elif function_to_call.__name__ == \"getNickname\":\n",
    "                        response = function_to_call(\n",
    "                          location=function_args.get(\"location\")\n",
    "                          )\n",
    "                        tool_outputs.append({\n",
    "                          \"tool_call_id\": toolcall.id,\n",
    "                          \"output\": response,\n",
    "                              })\n",
    "            print(tool_outputs,\"7--->>>>>\") \n",
    "            # Submit tool outputs and update the run\n",
    "            client.beta.threads.runs.submit_tool_outputs(\n",
    "                thread_id=thread.id,\n",
    "                run_id=run.id,\n",
    "                tool_outputs=tool_outputs)\n",
    "      \n",
    "    elif runStatus.status == \"completed\":\n",
    "        # List the messages to get the response\n",
    "        print(\"completed...........8--logic\")\n",
    "        messages: list[ThreadMessage] = client.beta.threads.messages.list(thread_id=thread.id)\n",
    "        for message in messages.data:\n",
    "            role_label = \"User\" if message.role == \"user\" else \"Assistant\"\n",
    "            message_content = message.content[0].text.value\n",
    "            print(f\"{role_label}: {message_content}\\n\")\n",
    "        break  # Exit the loop after processing the completed run\n",
    "\n",
    "    elif run.status == \"failed\":\n",
    "      print(\"Run failed.\")\n",
    "      break\n",
    "\n",
    "    elif run.status in [\"in_progress\", \"queued\"]:\n",
    "      print(f\"Run is {run.status}. Waiting...\")\n",
    "      time.sleep(5)  # Wait for 5 seconds before checking again\n",
    "\n",
    "    else:\n",
    "      print(f\"Unexpected status: {run.status}\")\n",
    "      break"
   ]
  }
 ],
 "metadata": {
  "kernelspec": {
   "display_name": "genai",
   "language": "python",
   "name": "python3"
  },
  "language_info": {
   "codemirror_mode": {
    "name": "ipython",
    "version": 3
   },
   "file_extension": ".py",
   "mimetype": "text/x-python",
   "name": "python",
   "nbconvert_exporter": "python",
   "pygments_lexer": "ipython3",
   "version": "3.12.0"
  }
 },
 "nbformat": 4,
 "nbformat_minor": 2
}
