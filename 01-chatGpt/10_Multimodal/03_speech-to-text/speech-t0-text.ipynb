{
 "cells": [
  {
   "cell_type": "markdown",
   "metadata": {},
   "source": [
    "### Speech to Text"
   ]
  },
  {
   "cell_type": "code",
   "execution_count": 1,
   "metadata": {},
   "outputs": [],
   "source": [
    "from openai import OpenAI\n",
    "from dotenv import load_dotenv, find_dotenv\n",
    "import os\n",
    "\n",
    "_ : bool = load_dotenv(find_dotenv()) # read local .env file\n",
    "\n",
    "client : OpenAI = OpenAI()"
   ]
  },
  {
   "cell_type": "markdown",
   "metadata": {},
   "source": [
    "#### Transcription"
   ]
  },
  {
   "cell_type": "code",
   "execution_count": 2,
   "metadata": {},
   "outputs": [],
   "source": [
    "audio_file = open(\"speech.mp3\",\"rb\")\n",
    "transcript = client.audio.transcriptions.create(\n",
    "    model=\"whisper-1\",\n",
    "    file=audio_file,\n",
    "    response_format=\"text\"\n",
    ")"
   ]
  },
  {
   "cell_type": "code",
   "execution_count": 11,
   "metadata": {},
   "outputs": [
    {
     "data": {
      "text/plain": [
       "'My name is Salim Akhtar. I am learning generative A.\\n'"
      ]
     },
     "execution_count": 11,
     "metadata": {},
     "output_type": "execute_result"
    }
   ],
   "source": [
    "transcript"
   ]
  },
  {
   "cell_type": "markdown",
   "metadata": {},
   "source": [
    "### Translations"
   ]
  },
  {
   "cell_type": "code",
   "execution_count": 19,
   "metadata": {},
   "outputs": [
    {
     "data": {
      "text/plain": [
       "'My name is Salim Akhtar. I am learning generative A.'"
      ]
     },
     "execution_count": 19,
     "metadata": {},
     "output_type": "execute_result"
    }
   ],
   "source": [
    "# translate audio inti english language\n",
    "\n",
    "audio_file = open(\"speech.mp3\", \"rb\")\n",
    "\n",
    "translate = client.audio.translations.create(\n",
    "    model=\"whisper-1\",\n",
    "    file=audio_file\n",
    ")\n",
    "\n",
    "translate.text"
   ]
  },
  {
   "cell_type": "code",
   "execution_count": null,
   "metadata": {},
   "outputs": [],
   "source": [
    "#!pip install pydub ffprobe --upgrade --force"
   ]
  },
  {
   "cell_type": "code",
   "execution_count": null,
   "metadata": {},
   "outputs": [],
   "source": [
    "#!ffprobe -version"
   ]
  },
  {
   "cell_type": "markdown",
   "metadata": {},
   "source": [
    "### pydub"
   ]
  },
  {
   "cell_type": "markdown",
   "metadata": {},
   "source": [
    "https://docs.tdarr.io/blog/how-to-install-ffprobe-and-gather-data-from-a-media-file"
   ]
  },
  {
   "cell_type": "code",
   "execution_count": 8,
   "metadata": {},
   "outputs": [
    {
     "data": {
      "text/html": [
       "\n",
       "                    <audio controls>\n",
       "                        <source src=\"data:audio/mpeg;base64,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\" type=\"audio/mpeg\"/>\n",
       "                        Your browser does not support the audio element.\n",
       "                    </audio>\n",
       "                  "
      ],
      "text/plain": [
       "<pydub.audio_segment.AudioSegment at 0x28fba136a80>"
      ]
     },
     "execution_count": 8,
     "metadata": {},
     "output_type": "execute_result"
    }
   ],
   "source": [
    "from pydub import AudioSegment\n",
    "\n",
    "# Use a raw string for the file path\n",
    "file_path = r\"\\Users\\hamza\\OneDrive\\Desktop\\genai\\01-chatGpt\\10_Multimodal\\03_speech-to-text\\speech.mp3\"\n",
    "\n",
    "song = AudioSegment.from_mp3(file_path)\n",
    "\n",
    "# pydub handles time in milliseconds\n",
    "ten_minutes = 10 * 60 * 1000\n",
    "first_10_minutes = song[:ten_minutes]\n",
    "\n",
    "first_10_minutes.export(\"chunk_10_25mb.mp3\", format=\"mp3\")\n",
    "first_10_minutes"
   ]
  },
  {
   "cell_type": "markdown",
   "metadata": {},
   "source": [
    "### prompting"
   ]
  },
  {
   "cell_type": "code",
   "execution_count": 24,
   "metadata": {},
   "outputs": [
    {
     "data": {
      "text/plain": [
       "ChatCompletion(id='chatcmpl-8X7eOi5Sz1PP3xQjw87w9hQHdkcKx', choices=[Choice(finish_reason='stop', index=0, message=ChatCompletionMessage(content='My name is Salim Akhtar. I am learning generative AI.', role='assistant', function_call=None, tool_calls=None), logprobs=None)], created=1702904924, model='gpt-3.5-turbo-1106', object='chat.completion', system_fingerprint='fp_772e8125bb', usage=CompletionUsage(completion_tokens=15, prompt_tokens=152, total_tokens=167))"
      ]
     },
     "metadata": {},
     "output_type": "display_data"
    },
    {
     "data": {
      "text/plain": [
       "'My name is Salim Akhtar. I am learning generative AI.'"
      ]
     },
     "execution_count": 24,
     "metadata": {},
     "output_type": "execute_result"
    }
   ],
   "source": [
    "system_prompt = \"You are a helpful assistant for the company ZyntriQix. Your task is to correct any spelling discrepancies in the transcribed text. Make sure that the names of the following products are spelled correctly: ZyntriQix, Digique Plus, CynapseFive, VortiQore V8, EchoNix Array, OrbitalLink Seven, DigiFractal Matrix, PULSE, RAPT, B.R.I.C.K., Q.U.A.R.T.Z., F.L.I.N.T. Only add necessary punctuation such as periods, commas, and capitalization, and use only the context provided.\"\n",
    "fake_company_filepath : str = \"./urdu.mp3\"\n",
    "\n",
    "def generate_corrected_transcript(temperature, system_prompt, output):\n",
    "    response = client.chat.completions.create(\n",
    "        model=\"gpt-3.5-turbo-1106\",\n",
    "        temperature = temperature,\n",
    "        messages=[{\n",
    "            \"role\": \"system\",\n",
    "            \"content\": system_prompt\n",
    "            },{\n",
    "            \"role\":\"user\",\n",
    "            \"content\": output.text\n",
    "                }]\n",
    "     )\n",
    "    display(response)\n",
    "    return response.choices[0].message.content\n",
    "\n",
    "corrected_text =generate_corrected_transcript(0, system_prompt, translate)\n",
    "corrected_text"
   ]
  }
 ],
 "metadata": {
  "kernelspec": {
   "display_name": "genai",
   "language": "python",
   "name": "python3"
  },
  "language_info": {
   "codemirror_mode": {
    "name": "ipython",
    "version": 3
   },
   "file_extension": ".py",
   "mimetype": "text/x-python",
   "name": "python",
   "nbconvert_exporter": "python",
   "pygments_lexer": "ipython3",
   "version": "3.12.0"
  }
 },
 "nbformat": 4,
 "nbformat_minor": 2
}
