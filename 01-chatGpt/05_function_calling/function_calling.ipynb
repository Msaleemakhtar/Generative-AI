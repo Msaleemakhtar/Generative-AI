{
 "cells": [
  {
   "cell_type": "code",
   "execution_count": 4,
   "metadata": {},
   "outputs": [],
   "source": [
    "from openai import OpenAI\n",
    "from dotenv import load_dotenv, find_dotenv\n",
    "import os\n",
    "\n",
    "_ : bool = load_dotenv(find_dotenv()) # read local .env file\n",
    "\n",
    "client : OpenAI = OpenAI()"
   ]
  },
  {
   "cell_type": "code",
   "execution_count": 5,
   "metadata": {},
   "outputs": [],
   "source": [
    "import json\n",
    "def get_current_weather(location:str, unit:str=\"fahrenheit\")->str:\n",
    "    if \"tokyo\" in location.lower():\n",
    "        return json.dumps({\"location\": \"tokyo\", \"temperature\":\"10\",\"unit\":\"celsius\"})\n",
    "    elif \"francisco\" in location.lower():\n",
    "        return json.dumps({\"location\": \"francisco\", \"temperature\":\"76\",\"unit\":\"fahrenheit\"})\n",
    "    elif \"paris\" in location.lower():\n",
    "        return json.dumps({\"location\": \"paris\", \"temperature\":\"23\",\"unit\":\"celsius\"})\n",
    "    else:\n",
    "        return json.dumps({\"location\": location,\"unit\":\"unknown\"})\n",
    "    \n"
   ]
  },
  {
   "cell_type": "code",
   "execution_count": 10,
   "metadata": {},
   "outputs": [
    {
     "name": "stdout",
     "output_type": "stream",
     "text": [
      "first response :  {'content': None, 'role': 'assistant', 'function_call': None, 'tool_calls': [ChatCompletionMessageToolCall(id='call_iTDdJG6Fl2frAcOWitlYNntk', function=Function(arguments='{\"location\": \"San Francisco\", \"unit\": \"celsius\"}', name='get_current_weather'), type='function'), ChatCompletionMessageToolCall(id='call_WgYSX8TGYu88JbM25GKZImUX', function=Function(arguments='{\"location\": \"Tokyo\", \"unit\": \"celsius\"}', name='get_current_weather'), type='function'), ChatCompletionMessageToolCall(id='call_1rBiwahFR9Zspe3EGhhQECe3', function=Function(arguments='{\"location\": \"Paris\", \"unit\": \"celsius\"}', name='get_current_weather'), type='function')]}\n"
     ]
    },
    {
     "data": {
      "text/plain": [
       "'first rsponse tools-calls is :'"
      ]
     },
     "metadata": {},
     "output_type": "display_data"
    },
    {
     "data": {
      "text/plain": [
       "[ChatCompletionMessageToolCall(id='call_iTDdJG6Fl2frAcOWitlYNntk', function=Function(arguments='{\"location\": \"San Francisco\", \"unit\": \"celsius\"}', name='get_current_weather'), type='function'),\n",
       " ChatCompletionMessageToolCall(id='call_WgYSX8TGYu88JbM25GKZImUX', function=Function(arguments='{\"location\": \"Tokyo\", \"unit\": \"celsius\"}', name='get_current_weather'), type='function'),\n",
       " ChatCompletionMessageToolCall(id='call_1rBiwahFR9Zspe3EGhhQECe3', function=Function(arguments='{\"location\": \"Paris\", \"unit\": \"celsius\"}', name='get_current_weather'), type='function')]"
      ]
     },
     "metadata": {},
     "output_type": "display_data"
    },
    {
     "data": {
      "text/plain": [
       "'second Request Message :'"
      ]
     },
     "metadata": {},
     "output_type": "display_data"
    },
    {
     "data": {
      "text/plain": [
       "[{'role': 'user',\n",
       "  'content': \"What's the weather like in San Francisco, Tokyo, and Paris?\"},\n",
       " ChatCompletionMessage(content=None, role='assistant', function_call=None, tool_calls=[ChatCompletionMessageToolCall(id='call_iTDdJG6Fl2frAcOWitlYNntk', function=Function(arguments='{\"location\": \"San Francisco\", \"unit\": \"celsius\"}', name='get_current_weather'), type='function'), ChatCompletionMessageToolCall(id='call_WgYSX8TGYu88JbM25GKZImUX', function=Function(arguments='{\"location\": \"Tokyo\", \"unit\": \"celsius\"}', name='get_current_weather'), type='function'), ChatCompletionMessageToolCall(id='call_1rBiwahFR9Zspe3EGhhQECe3', function=Function(arguments='{\"location\": \"Paris\", \"unit\": \"celsius\"}', name='get_current_weather'), type='function')]),\n",
       " {'tool_call_id': 'call_iTDdJG6Fl2frAcOWitlYNntk',\n",
       "  'role': 'tool',\n",
       "  'name': 'get_current_weather',\n",
       "  'content': '{\"location\": \"francisco\", \"temperature\": \"76\", \"unit\": \"fahrenheit\"}'},\n",
       " {'tool_call_id': 'call_WgYSX8TGYu88JbM25GKZImUX',\n",
       "  'role': 'tool',\n",
       "  'name': 'get_current_weather',\n",
       "  'content': '{\"location\": \"tokyo\", \"temperature\": \"10\", \"unit\": \"celsius\"}'},\n",
       " {'tool_call_id': 'call_1rBiwahFR9Zspe3EGhhQECe3',\n",
       "  'role': 'tool',\n",
       "  'name': 'get_current_weather',\n",
       "  'content': '{\"location\": \"paris\", \"temperature\": \"23\", \"unit\": \"celsius\"}'}]"
      ]
     },
     "metadata": {},
     "output_type": "display_data"
    },
    {
     "data": {
      "text/plain": [
       "'second response :'"
      ]
     },
     "metadata": {},
     "output_type": "display_data"
    },
    {
     "data": {
      "text/plain": [
       "{'id': 'chatcmpl-8SqoNNy5bjs7YpFRUqyXOBcXv71Lj',\n",
       " 'choices': [Choice(finish_reason='stop', index=0, message=ChatCompletionMessage(content=\"Currently, the weather in San Francisco is 76°F, in Tokyo it's 10°C, and in Paris it's 23°C.\", role='assistant', function_call=None, tool_calls=None))],\n",
       " 'created': 1701886883,\n",
       " 'model': 'gpt-3.5-turbo-1106',\n",
       " 'object': 'chat.completion',\n",
       " 'system_fingerprint': 'fp_eeff13170a',\n",
       " 'usage': CompletionUsage(completion_tokens=29, prompt_tokens=171, total_tokens=200)}"
      ]
     },
     "metadata": {},
     "output_type": "display_data"
    },
    {
     "data": {
      "text/plain": [
       "\"Currently, the weather in San Francisco is 76°F, in Tokyo it's 10°C, and in Paris it's 23°C.\""
      ]
     },
     "execution_count": 10,
     "metadata": {},
     "output_type": "execute_result"
    }
   ],
   "source": [
    "from openai.types.chat.chat_completion import ChatCompletion, ChatCompletionMessage\n",
    "def run_conversation(main_request:str)->str:\n",
    "    messages = [{\"role\":\"user\",\"content\":main_request}]\n",
    "    tools = [\n",
    "        {\n",
    "            \"type\":\"function\",\n",
    "            \"function\":{\n",
    "                \"name\":\"get_current_weather\",\n",
    "                \"description\":\"Get the current weather in the given location\",\n",
    "                \"parameters\":{\n",
    "                    \"type\" :\"object\",\n",
    "                    \"properties\":{\n",
    "                        \"location\":{\n",
    "                            \"type\":\"string\",\n",
    "                            \"description\":\"The city and state; like paris and CA\",\n",
    "                        },\n",
    "                        \"unit\":{\"type\":\"string\",\"enum\":[\"celsius\", \"fahrenheit\"]},\n",
    "\n",
    "                    },\n",
    "                    \"required\":[\"location\"]\n",
    "                },\n",
    "            },\n",
    "        },\n",
    "    ]\n",
    "\n",
    "     # First Request\n",
    "    response:ChatCompletion = client.chat.completions.create(\n",
    "        model=\"gpt-3.5-turbo-1106\",\n",
    "        messages = messages,\n",
    "        tools=tools,\n",
    "        tool_choice=\"auto\"\n",
    "    )\n",
    "  \n",
    "\n",
    "    response_message:ChatCompletionMessage = response.choices[0].message\n",
    "    print(\"first response : \", dict(response_message))\n",
    "\n",
    "    tools_call = response_message.tool_calls\n",
    "    display(\"first rsponse tools-calls is :\", list(tools_call))\n",
    "\n",
    "\n",
    "    # Step 2: check if the model wanted to call a function\n",
    "\n",
    "    if tools_call:\n",
    "        available_functions = {\n",
    "            \"get_current_weather\" :get_current_weather,\n",
    "        }\n",
    "\n",
    "        messages.append(response_message)\n",
    "\n",
    "        for toll_call in tools_call:\n",
    "            function_name = toll_call.function.name\n",
    "            function_to_call = available_functions[function_name]\n",
    "            function_args = json.loads(toll_call.function.arguments)\n",
    "            function_response = function_to_call(\n",
    "                location = function_args.get(\"location\"),\n",
    "                unit = function_args.get(\"unit\")\n",
    "            )\n",
    "            messages.append(\n",
    "                {\n",
    "                    \"tool_call_id\": toll_call.id,\n",
    "                    \"role\":\"tool\",\n",
    "                    \"name\": function_name,\n",
    "                    \"content\":function_response,\n",
    "\n",
    "                }\n",
    "            )\n",
    "\n",
    "\n",
    "        display(\"second Request Message :\", list(messages))\n",
    "\n",
    "        second_response :ChatCompletion = client.chat.completions.create(\n",
    "            model=\"gpt-3.5-turbo-1106\",\n",
    "            messages = messages,\n",
    "        )\n",
    "\n",
    "        display(\"second response :\", dict(second_response))\n",
    "\n",
    "        return second_response.choices[0].message.content\n",
    "\n",
    "\n",
    "\n",
    "\n",
    "\n",
    "\n",
    "run_conversation(\"What's the weather like in San Francisco, Tokyo, and Paris?\")\n"
   ]
  }
 ],
 "metadata": {
  "kernelspec": {
   "display_name": "genai",
   "language": "python",
   "name": "python3"
  },
  "language_info": {
   "codemirror_mode": {
    "name": "ipython",
    "version": 3
   },
   "file_extension": ".py",
   "mimetype": "text/x-python",
   "name": "python",
   "nbconvert_exporter": "python",
   "pygments_lexer": "ipython3",
   "version": "3.12.0"
  }
 },
 "nbformat": 4,
 "nbformat_minor": 2
}
