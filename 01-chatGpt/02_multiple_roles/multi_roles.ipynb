{
 "cells": [
  {
   "cell_type": "code",
   "execution_count": 2,
   "metadata": {},
   "outputs": [],
   "source": [
    "from openai import OpenAI\n",
    "from dotenv import load_dotenv, find_dotenv\n",
    "import os\n",
    "\n",
    "_ : bool = load_dotenv(find_dotenv()) # read local .env file\n",
    "\n",
    "client : OpenAI = OpenAI()"
   ]
  },
  {
   "cell_type": "code",
   "execution_count": 5,
   "metadata": {},
   "outputs": [
    {
     "name": "stdout",
     "output_type": "stream",
     "text": [
      "In the kingdom of code, there lies a technique grand,\n",
      "Where problems are solved by a clever command.\n",
      "Recursion, it's called, a wondrous loop,\n",
      "A magical dance, a programming troupe.\n",
      "\n",
      "Like a Russian doll, nested within,\n",
      "A function calls itself, a musical spin.\n",
      "With elegance and grace, it travels deep,\n",
      "Unraveling mysteries, a promise to keep.\n",
      "\n",
      "A function's journey, it knows no end,\n",
      "Through layers of logic, it begins to ascend.\n",
      "It splits and divides, conquering strife,\n",
      "A symphony of patterns, the dance of life.\n",
      "\n",
      "With each iteration, a task is complete,\n",
      "An ancient dance, an endless heartbeat.\n",
      "Recursion enchants, with its mystical flight,\n",
      "In the realm of programming, a shimmering light.\n",
      "\n",
      "So embrace the beauty, the elegance sublime,\n",
      "Recursion's embrace, a melody in time.\n",
      "Solving complexities, with a magical twist,\n",
      "In the kingdom of code, recursion persists.\n"
     ]
    }
   ],
   "source": [
    "from openai.types.chat.chat_completion import ChatCompletion\n",
    "\n",
    "def chat_completion()-> str:\n",
    " response : ChatCompletion = client.chat.completions.create(\n",
    "        messages=[\n",
    "        {\"role\": \"system\", \"content\": \"You are a poetic assistant, skilled in explaining complex programming concepts with creative flair.\"},\n",
    "        {\"role\": \"user\", \"content\": \"Compose a poem that explains the concept of recursion in programming.\"}\n",
    "        ],\n",
    "        model=\"gpt-3.5-turbo-1106\",\n",
    "    )\n",
    "# print(response)\n",
    "#  print(response.choices[0].message.content)\n",
    " return response.choices[0].message.content\n",
    "\n",
    "print(chat_completion())"
   ]
  }
 ],
 "metadata": {
  "kernelspec": {
   "display_name": "genai",
   "language": "python",
   "name": "python3"
  },
  "language_info": {
   "codemirror_mode": {
    "name": "ipython",
    "version": 3
   },
   "file_extension": ".py",
   "mimetype": "text/x-python",
   "name": "python",
   "nbconvert_exporter": "python",
   "pygments_lexer": "ipython3",
   "version": "3.12.0"
  }
 },
 "nbformat": 4,
 "nbformat_minor": 2
}
