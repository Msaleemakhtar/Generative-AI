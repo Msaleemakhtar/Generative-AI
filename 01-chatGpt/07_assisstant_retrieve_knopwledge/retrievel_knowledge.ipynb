{
 "cells": [
  {
   "cell_type": "code",
   "execution_count": 55,
   "metadata": {},
   "outputs": [],
   "source": [
    "from openai import OpenAI\n",
    "from dotenv import load_dotenv, find_dotenv\n",
    "import os\n",
    "\n",
    "_ : bool = load_dotenv(find_dotenv()) # read local .env file\n",
    "\n",
    "client : OpenAI = OpenAI()"
   ]
  },
  {
   "cell_type": "markdown",
   "metadata": {},
   "source": [
    "### Upload file for \"assistant' purpose\n"
   ]
  },
  {
   "cell_type": "code",
   "execution_count": 56,
   "metadata": {},
   "outputs": [
    {
     "name": "stdout",
     "output_type": "stream",
     "text": [
      "FileObject(id='file-BrKX9H7aD3i7zcWdJaBqTjTP', bytes=48802, created_at=1702211980, filename='zia_profile.pdf', object='file', purpose='assistants', status='processed', status_details=None)\n"
     ]
    }
   ],
   "source": [
    "file = client.files.create(\n",
    "    file = open(\"zia_profile.pdf\", \"rb\"),\n",
    "    purpose= \"assistants\"\n",
    ")\n",
    "\n",
    "print(file)"
   ]
  },
  {
   "cell_type": "markdown",
   "metadata": {},
   "source": [
    "### Create Assistant"
   ]
  },
  {
   "cell_type": "code",
   "execution_count": 57,
   "metadata": {},
   "outputs": [],
   "source": [
    "assistant = client.beta.assistants.create(\n",
    "    name = \"Student Support Assistant\",\n",
    "    instructions=\"You are a student chatbot assistant. Use your knowledge base to respond student queries\",\n",
    "    model= \"gpt-3.5-turbo-1106\",\n",
    "    tools=[{\"type\": \"retrieval\"}],\n",
    "    file_ids=[file.id]\n",
    ")"
   ]
  },
  {
   "cell_type": "markdown",
   "metadata": {},
   "source": [
    "### create a thread"
   ]
  },
  {
   "cell_type": "code",
   "execution_count": 58,
   "metadata": {},
   "outputs": [
    {
     "name": "stdout",
     "output_type": "stream",
     "text": [
      "Thread(id='thread_1T33bmm4Od4Dj3DY2eaHAVcp', created_at=1702211984, metadata={}, object='thread')\n"
     ]
    }
   ],
   "source": [
    "from openai.types.beta.thread import Thread\n",
    "thread: Thread = client.beta.threads.create()\n",
    "\n",
    "print(thread)"
   ]
  },
  {
   "cell_type": "markdown",
   "metadata": {},
   "source": [
    "### Add a Message to Thread"
   ]
  },
  {
   "cell_type": "code",
   "execution_count": 59,
   "metadata": {},
   "outputs": [
    {
     "name": "stdout",
     "output_type": "stream",
     "text": [
      "ThreadMessage(id='msg_dEhwg9QmgNp3S8DEpavl0Row', assistant_id=None, content=[MessageContentText(text=Text(annotations=[], value=' in which city zia U khan was born'), type='text')], created_at=1702211984, file_ids=[], metadata={}, object='thread.message', role='user', run_id=None, thread_id='thread_1T33bmm4Od4Dj3DY2eaHAVcp')\n"
     ]
    }
   ],
   "source": [
    "from openai.types.beta.threads.thread_message import ThreadMessage\n",
    "\n",
    "message :ThreadMessage = client.beta.threads.messages.create(\n",
    "    thread_id= thread.id,\n",
    "    role=\"user\",\n",
    "    content=\" in which city zia U khan was born\"\n",
    ")\n",
    "\n",
    "print(message)"
   ]
  },
  {
   "cell_type": "markdown",
   "metadata": {},
   "source": [
    "### Run the assistant"
   ]
  },
  {
   "cell_type": "code",
   "execution_count": 60,
   "metadata": {},
   "outputs": [
    {
     "name": "stdout",
     "output_type": "stream",
     "text": [
      "Run(id='run_j7hDbDvqp7M1Hw5CWFtD4dpz', assistant_id='asst_EynbgkDozNjiKOAYGI9wOLre', cancelled_at=None, completed_at=None, created_at=1702211985, expires_at=1702212585, failed_at=None, file_ids=['file-BrKX9H7aD3i7zcWdJaBqTjTP'], instructions='please address the user as pakistani. The user is student of PIAIC', last_error=None, metadata={}, model='gpt-3.5-turbo-1106', object='thread.run', required_action=None, started_at=None, status='queued', thread_id='thread_1T33bmm4Od4Dj3DY2eaHAVcp', tools=[ToolAssistantToolsRetrieval(type='retrieval')])\n"
     ]
    }
   ],
   "source": [
    "from openai.types.beta.threads.run import Run\n",
    "\n",
    "run:Run = client.beta.threads.runs.create(\n",
    "    thread_id = thread.id,\n",
    "    assistant_id = assistant.id,\n",
    "    instructions = \"please address the user as pakistani. The user is student of PIAIC\"\n",
    ")\n",
    "\n",
    "print(run)"
   ]
  },
  {
   "cell_type": "markdown",
   "metadata": {},
   "source": [
    "### Check the run status"
   ]
  },
  {
   "cell_type": "code",
   "execution_count": 61,
   "metadata": {},
   "outputs": [
    {
     "name": "stdout",
     "output_type": "stream",
     "text": [
      "Run(id='run_j7hDbDvqp7M1Hw5CWFtD4dpz', assistant_id='asst_EynbgkDozNjiKOAYGI9wOLre', cancelled_at=None, completed_at=None, created_at=1702211985, expires_at=1702212585, failed_at=None, file_ids=['file-BrKX9H7aD3i7zcWdJaBqTjTP'], instructions='please address the user as pakistani. The user is student of PIAIC', last_error=None, metadata={}, model='gpt-3.5-turbo-1106', object='thread.run', required_action=None, started_at=1702211985, status='in_progress', thread_id='thread_1T33bmm4Od4Dj3DY2eaHAVcp', tools=[ToolAssistantToolsRetrieval(type='retrieval')])\n"
     ]
    }
   ],
   "source": [
    "run : Run = client.beta.threads.runs.retrieve(\n",
    "    thread_id= thread.id,\n",
    "    run_id= run.id\n",
    ")\n",
    "\n",
    "print(run)"
   ]
  },
  {
   "cell_type": "markdown",
   "metadata": {},
   "source": [
    "### Display the Assistant response"
   ]
  },
  {
   "cell_type": "code",
   "execution_count": 76,
   "metadata": {},
   "outputs": [
    {
     "name": "stdout",
     "output_type": "stream",
     "text": [
      "user:  in which city zia U khan was born\n",
      "assistant: Zia U. Khan was born in Sialkot, Pakistan, in 1961, in an army garrison【7†source】.\n"
     ]
    }
   ],
   "source": [
    "from openai.resources.beta.threads.messages.messages import SyncCursorPage \n",
    "messages:list[ThreadMessage]= client.beta.threads.messages.list(\n",
    "   thread_id=thread.id \n",
    ")\n",
    "\n",
    "\n",
    "\n",
    "for m in reversed(messages.data):\n",
    "    print(m.role + \": \" + m.content[0].text.value)"
   ]
  }
 ],
 "metadata": {
  "kernelspec": {
   "display_name": "genai",
   "language": "python",
   "name": "python3"
  },
  "language_info": {
   "codemirror_mode": {
    "name": "ipython",
    "version": 3
   },
   "file_extension": ".py",
   "mimetype": "text/x-python",
   "name": "python",
   "nbconvert_exporter": "python",
   "pygments_lexer": "ipython3",
   "version": "3.12.0"
  }
 },
 "nbformat": 4,
 "nbformat_minor": 2
}
